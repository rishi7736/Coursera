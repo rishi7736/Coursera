{
 "cells": [
  {
   "cell_type": "markdown",
   "id": "81526b92",
   "metadata": {},
   "source": [
    "Introduction to Jupyter Nootebook"
   ]
  },
  {
   "cell_type": "markdown",
   "id": "d2d4cdaa",
   "metadata": {},
   "source": [
    "Jupyter Notebook is an interactive web-based tool for creating and sharing documents that combine live code, equations, visualizations, and narrative text. Markdown cells in Jupyter Notebook allow users to add formatted text, headings, lists, and more, making it easy to create documentation alongside code."
   ]
  },
  {
   "cell_type": "markdown",
   "id": "2e734321",
   "metadata": {},
   "source": [
    "List of data science languages:\n",
    "\n",
    "1. Python\n",
    "2. R\n",
    "3. SQL\n",
    "4. Julia\n",
    "5. SAS\n",
    "6. MATLAB\n",
    "7. Scala\n",
    "8. Java\n",
    "9. C++\n",
    "10. Ruby"
   ]
  },
  {
   "cell_type": "markdown",
   "id": "61632908",
   "metadata": {},
   "source": [
    "Some popular data science libraries:\n",
    "\n",
    "1. NumPy\n",
    "2. pandas\n",
    "3. scikit-learn\n",
    "4. Matplotlib\n",
    "5. Seaborn\n",
    "6. TensorFlow\n",
    "7. Keras\n",
    "8. PyTorch\n",
    "9. SciPy\n",
    "10. Statsmodels\n",
    "11. NLTK\n",
    "12. Gensim\n",
    "13. XGBoost\n",
    "14. LightGBM\n",
    "15. CatBoost\n",
    "16. Plotly\n",
    "17. Bokeh\n",
    "18. OpenCV\n",
    "19. BeautifulSoup\n",
    "20. Scrapy"
   ]
  },
  {
   "cell_type": "markdown",
   "id": "a2218047",
   "metadata": {},
   "source": [
    "| Tool Name      | Description                                      |\n",
    "|----------------|--------------------------------------------------|\n",
    "| NumPy          | Numerical computing library for Python           |\n",
    "| pandas         | Data manipulation and analysis library          |\n",
    "| scikit-learn   | Machine learning library for Python             |\n",
    "| Matplotlib     | 2D plotting library for creating data visualizations |\n",
    "| Seaborn        | Data visualization library based on Matplotlib  |\n",
    "| TensorFlow     | Open-source machine learning framework by Google |\n",
    "| Keras          | High-level neural networks API for TensorFlow   |\n",
    "| PyTorch        | Open-source machine learning library by Facebook |\n",
    "| SciPy          | Scientific computing library for Python         |\n",
    "| Statsmodels    | Statistical modeling and testing library        |\n",
    "| NLTK           | Natural Language Toolkit for text analysis      |\n",
    "| Gensim         | Library for topic modeling and document similarity |\n",
    "| XGBoost        | Gradient boosting library for machine learning  |\n",
    "| LightGBM       | Gradient boosting library optimized for speed   |\n",
    "| CatBoost       | Gradient boosting library with categorical feature support |\n",
    "| Plotly         | Interactive data visualization library           |\n",
    "| Bokeh          | Interactive data visualization library           |\n",
    "| OpenCV         | Computer vision library for image processing    |\n",
    "| BeautifulSoup  | Web scraping library for parsing HTML and XML   |\n",
    "| Scrapy         | Web crawling and scraping framework             |\n"
   ]
  },
  {
   "cell_type": "markdown",
   "id": "f9215723",
   "metadata": {},
   "source": [
    "## Arithmetic Expressions Examples\n",
    "\n",
    "In mathematics, arithmetic involves fundamental operations like addition, subtraction, multiplication, and division. These operations are essential in various aspects of data science and everyday life. Here are some examples:\n",
    "\n",
    "### Addition\n",
    "5 + 3 = 8\n",
    "\n",
    "### Subtraction\n",
    "10 - 4 = 6\n",
    "\n",
    "### Multiplication\n",
    "6 * 4 = 24\n",
    "\n",
    "### Division\n",
    "25 / 5 = 5"
   ]
  },
  {
   "cell_type": "code",
   "execution_count": 16,
   "id": "9688dc1b",
   "metadata": {},
   "outputs": [
    {
     "name": "stdout",
     "output_type": "stream",
     "text": [
      "5 + 3 =  8\n",
      "5 * 8 =  40\n"
     ]
    }
   ],
   "source": [
    "##ADDITION :\n",
    "print('5 + 3 = ', 5+3)\n",
    "\n",
    "##MULTIPLICATION\n",
    "print('5 * 8 = ',5*8)"
   ]
  },
  {
   "cell_type": "code",
   "execution_count": 17,
   "id": "4be1a388",
   "metadata": {},
   "outputs": [
    {
     "name": "stdout",
     "output_type": "stream",
     "text": [
      "2.5 hours in minutes is :  150.0 mintues\n"
     ]
    }
   ],
   "source": [
    "hrs = 2.5\n",
    "print('2.5 hours in minutes is : ',hrs*60,'mintues')"
   ]
  },
  {
   "cell_type": "markdown",
   "id": "78e4827b",
   "metadata": {},
   "source": [
    "Certainly! Here's a Markdown cell with a list of objectives:\n",
    "\n",
    "**Objectives:**\n",
    "\n",
    "1. Learn the fundamentals of programming.\n",
    "2. Understand basic data types and variables.\n",
    "3. Explore control structures, such as loops and conditional statements.\n",
    "4. Gain proficiency in working with functions and modules.\n",
    "5. Practice problem-solving through coding exercises.\n",
    "6. Familiarize yourself with version control using Git.\n",
    "7. Collaborate with peers on coding projects.\n",
    "8. Develop a strong foundation in a programming language of your choice.\n",
    "9. Prepare for more advanced programming concepts and topics.\n",
    "10. Enjoy the process of learning and coding!"
   ]
  },
  {
   "cell_type": "markdown",
   "id": "aa34887c",
   "metadata": {},
   "source": [
    "Author Name - Rhishitha T S"
   ]
  }
 ],
 "metadata": {
  "kernelspec": {
   "display_name": "Python 3 (ipykernel)",
   "language": "python",
   "name": "python3"
  },
  "language_info": {
   "codemirror_mode": {
    "name": "ipython",
    "version": 3
   },
   "file_extension": ".py",
   "mimetype": "text/x-python",
   "name": "python",
   "nbconvert_exporter": "python",
   "pygments_lexer": "ipython3",
   "version": "3.9.7"
  }
 },
 "nbformat": 4,
 "nbformat_minor": 5
}
